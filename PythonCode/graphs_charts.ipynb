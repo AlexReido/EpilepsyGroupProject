{
 "cells": [
  {
   "cell_type": "markdown",
   "metadata": {
    "pycharm": {
     "name": "#%% md\n"
    }
   },
   "source": [
    "# Plotting the Pareto front\n"
   ]
  },
  {
   "cell_type": "code",
   "execution_count": 1,
   "metadata": {
    "pycharm": {
     "name": "#%%\n"
    }
   },
   "outputs": [],
   "source": [
    "def getaxesfromresult(res):\n",
    "    nodenums = res.F[:,0]\n",
    "    bniVals = res.F[:,1]\n",
    "    print(nodenums)\n",
    "    print(bniVals)\n",
    "    return nodenums, bniVals"
   ]
  },
  {
   "cell_type": "code",
   "execution_count": 2,
   "metadata": {
    "pycharm": {
     "name": "#%%\n"
    }
   },
   "outputs": [],
   "source": [
    "import matplotlib.pyplot as plt\n",
    "def show_Pareto_front(x, y):\n",
    "    plt.title(\"BNI vs Number of nodes Pareto front\")\n",
    "    plt.xlabel(\"Number of nodes resected\")\n",
    "    plt.ylabel(\"The BNI value after resection\")\n",
    "    plt.scatter(x, y)\n",
    "    plt.show()"
   ]
  },
  {
   "cell_type": "markdown",
   "metadata": {
    "pycharm": {
     "name": "#%% md\n"
    }
   },
   "source": [
    "## The Search\n",
    "The below cell carries out the search on the network to find the Pareto front for this bi-objective problem.\n",
    "The search takes a while.\n",
    "\n"
   ]
  },
  {
   "cell_type": "code",
   "execution_count": 5,
   "metadata": {
    "pycharm": {
     "name": "#%%\n"
    }
   },
   "outputs": [
    {
     "name": "stdout",
     "output_type": "stream",
     "text": [
      "Finding reference coupling:\n",
      "Iteration:  1  | bni =  [[0.00016649]]  | w =  25\n",
      "Iteration:  2  | bni =  [[0.0001402]]  | w =  50\n",
      "Iteration:  3  | bni =  [[0.00035186]]  | w =  100\n",
      "Iteration:  4  | bni =  [[0.37059903]]  | w =  200\n",
      "Iteration:  5  | bni =  [[0.8598158]]  | w =  400\n",
      "Iteration:  6  | bni =  [[0.7637133]]  | w =  300.0\n",
      "Iteration:  7  | bni =  [[0.65614177]]  | w =  250.0\n",
      "Iteration:  8  | bni =  [[0.56545651]]  | w =  225.0\n",
      "Iteration:  9  | bni =  [[0.48936397]]  | w =  212.5\n",
      "Iteration:  10  | bni =  [[0.52990558]]  | w =  218.75\n",
      "NSGA-II\n",
      "=======================================================\n",
      "n_gen |  n_eval |  n_nds  |     eps      |  indicator  \n",
      "=======================================================\n",
      "    1 |      10 |       5 |            - |            -\n",
      "    2 |      20 |       6 |  0.053237492 |            f\n",
      "    3 |      30 |       8 |  0.021897844 |            f\n",
      "    4 |      40 |       8 |  0.043941633 |            f\n",
      "    5 |      50 |       8 |  0.029480076 |            f\n",
      "    6 |      60 |       8 |  0.005082136 |        ideal\n",
      "    7 |      70 |       7 |  0.024884629 |            f\n",
      "    8 |      80 |       8 |  0.033113420 |            f\n",
      "    9 |      90 |       8 |  0.076923077 |        nadir\n",
      "   10 |     100 |       7 |  0.181818182 |        nadir\n",
      "   11 |     110 |       8 |  0.011363734 |            f\n",
      "   12 |     120 |       9 |  0.016874092 |            f\n",
      "   13 |     130 |      10 |  0.009091414 |            f\n",
      "   14 |     140 |      10 |  0.00000E+00 |            f\n",
      "   15 |     150 |       7 |  0.005065772 |        ideal\n",
      "   16 |     160 |       7 |  0.00000E+00 |            f\n",
      "   17 |     170 |       7 |  0.001823821 |            f\n",
      "   18 |     180 |       7 |  0.00000E+00 |            f\n",
      "   19 |     190 |       7 |  0.00000E+00 |            f\n",
      "   20 |     200 |       8 |  0.250000000 |        nadir\n",
      "   21 |     210 |       8 |  0.009554311 |            f\n",
      "   22 |     220 |       9 |  0.013888893 |            f\n",
      "   23 |     230 |       8 |  0.026634563 |            f\n",
      "   24 |     240 |       8 |  0.00000E+00 |            f\n",
      "   25 |     250 |       8 |  0.000037505 |            f\n",
      "   26 |     260 |       8 |  0.000311242 |            f\n",
      "   27 |     270 |       8 |  8.10036E-06 |            f\n",
      "   28 |     280 |       9 |  0.014357898 |            f\n",
      "   29 |     290 |       9 |  0.019088131 |            f\n",
      "   30 |     300 |       9 |  0.000042524 |            f\n",
      "Number of Nodes, (1-Delta BNI value)\n",
      "[[0.00000000e+00 1.00662964e+00]\n",
      " [4.00000000e+00 2.58161636e-02]\n",
      " [2.00000000e+00 9.88133684e-02]\n",
      " [7.00000000e+00 7.33288462e-04]\n",
      " [8.00000000e+00 5.30039216e-04]\n",
      " [3.00000000e+00 6.62136250e-02]\n",
      " [1.00000000e+00 2.16037862e-01]\n",
      " [6.00000000e+00 1.11283019e-03]\n",
      " [5.00000000e+00 2.65725926e-03]]\n",
      "[0. 4. 2. 7. 8. 3. 1. 6. 5.]\n",
      "[1.00662964e+00 2.58161636e-02 9.88133684e-02 7.33288462e-04\n",
      " 5.30039216e-04 6.62136250e-02 2.16037862e-01 1.11283019e-03\n",
      " 2.65725926e-03]\n"
     ]
    },
    {
     "data": {
      "image/png": "[encoded data removed]",
      "text/plain": [
       "<Figure size 432x288 with 1 Axes>"
      ]
     },
     "metadata": {
      "needs_background": "light"
     },
     "output_type": "display_data"
    }
   ],
   "source": [
    "import SearchNetwork\n",
    "sn = SearchNetwork.SearchNetwork(\"NSGA2\", timesteps=400000)\n",
    "res = sn.search(30, 15)\n",
    "\n",
    "x, y = getaxesfromresult(res)\n",
    "show_Pareto_front(x, y)\n",
    "\n"
   ]
  },
  {
   "cell_type": "markdown",
   "metadata": {},
   "source": [
    "The graph shows the Pareto front with the tradeoff between the number of nodes resected and the BNI reduction.\n",
    "It shows that the BNI reduces quickly from 0 to two nodes resected"
   ]
  },
  {
   "cell_type": "code",
   "execution_count": 7,
   "metadata": {
    "pycharm": {
     "name": "#%%\n"
    }
   },
   "outputs": [
    {
     "data": {
      "image/png": "[encoded data removed]",
      "text/plain": [
       "<Figure size 432x288 with 1 Axes>"
      ]
     },
     "metadata": {
      "needs_background": "light"
     },
     "output_type": "display_data"
    }
   ],
   "source": [
    "plt.title(\"BNI vs Number of nodes Pareto front\")\n",
    "plt.xlabel(\"Number of nodes resected\")\n",
    "plt.ylabel(\"The BNI value after resection\")\n",
    "plt.scatter(x, y)\n",
    "plt.savefig(\"Front  image\", dpi=300)"
   ]
  },
  {
   "cell_type": "code",
   "execution_count": 15,
   "metadata": {
    "pycharm": {
     "is_executing": true,
     "name": "#%%\n"
    }
   },
   "outputs": [
    {
     "name": "stdout",
     "output_type": "stream",
     "text": [
      "Finding reference coupling:\n",
      "Iteration:  1  | bni =  [[0.00011739]]  | w =  25\n",
      "Iteration:  2  | bni =  [[0.00016524]]  | w =  50\n",
      "Iteration:  3  | bni =  [[0.00039763]]  | w =  100\n",
      "Iteration:  4  | bni =  [[0.36865216]]  | w =  200\n",
      "Iteration:  5  | bni =  [[0.86235537]]  | w =  400\n",
      "Iteration:  6  | bni =  [[0.76110132]]  | w =  300.0\n",
      "Iteration:  7  | bni =  [[0.65254981]]  | w =  250.0\n",
      "Iteration:  8  | bni =  [[0.55917794]]  | w =  225.0\n",
      "Iteration:  9  | bni =  [[0.49377632]]  | w =  212.5\n",
      "Iteration:  10  | bni =  [[0.53228654]]  | w =  218.75\n",
      "NSGA-II\n",
      "=======================================================\n",
      "n_gen |  n_eval |  n_nds  |     eps      |  indicator  \n",
      "=======================================================\n",
      "    1 |      10 |       5 |            - |            -\n",
      "    2 |      20 |       6 |  0.055737538 |            f\n",
      "    3 |      30 |       8 |  0.062627511 |            f\n",
      "    4 |      40 |      10 |  0.026894374 |            f\n",
      "    5 |      50 |      10 |  0.020908684 |            f\n",
      "    6 |      60 |      10 |  0.021521071 |            f\n",
      "    7 |      70 |       8 |  0.002930064 |        ideal\n",
      "    8 |      80 |       7 |  0.002550003 |            f\n",
      "    9 |      90 |       9 |  0.002621781 |        ideal\n",
      "   10 |     100 |       7 |  0.166666667 |        nadir\n",
      "   11 |     110 |       9 |  0.076923077 |        nadir\n",
      "   12 |     120 |       9 |  0.00000E+00 |            f\n",
      "   13 |     130 |      10 |  0.181818182 |        nadir\n",
      "   14 |     140 |       9 |  0.222222222 |        nadir\n",
      "   15 |     150 |       9 |  0.017442171 |            f\n",
      "   16 |     160 |       9 |  0.000822417 |            f\n",
      "   17 |     170 |       9 |  0.012345786 |            f\n",
      "   18 |     180 |       8 |  0.000550291 |            f\n",
      "   19 |     190 |       8 |  0.000971141 |            f\n",
      "   20 |     200 |       8 |  0.00000E+00 |            f\n",
      "   21 |     210 |       8 |  0.00000E+00 |            f\n",
      "   22 |     220 |       8 |  0.125000000 |        nadir\n",
      "   23 |     230 |       8 |  0.000162511 |            f\n",
      "   24 |     240 |       8 |  0.00000E+00 |            f\n",
      "   25 |     250 |       8 |  0.00000E+00 |            f\n",
      "   26 |     260 |       8 |  0.037513088 |            f\n",
      "   27 |     270 |       9 |  0.333333333 |        nadir\n",
      "   28 |     280 |       9 |  0.012497010 |            f\n",
      "   29 |     290 |       6 |  1.000000000 |        nadir\n",
      "   30 |     300 |       6 |  0.00000E+00 |            f\n",
      "Number of Nodes, (1-Delta BNI value)\n",
      "[[0.00000000e+00 9.96978932e-01]\n",
      " [5.00000000e+00 3.57674074e-03]\n",
      " [1.00000000e+00 1.99088155e-01]\n",
      " [3.00000000e+00 1.00215893e-02]\n",
      " [6.00000000e+00 4.86698113e-04]\n",
      " [2.00000000e+00 2.56615439e-02]]\n",
      "Current results:\n",
      "[array([[0.00000000e+00, 9.96978932e-01],\n",
      "       [5.00000000e+00, 3.57674074e-03],\n",
      "       [1.00000000e+00, 1.99088155e-01],\n",
      "       [3.00000000e+00, 1.00215893e-02],\n",
      "       [6.00000000e+00, 4.86698113e-04],\n",
      "       [2.00000000e+00, 2.56615439e-02]])]\n",
      "Finding reference coupling:\n",
      "Iteration:  1  | bni =  [[0.00016235]]  | w =  25\n",
      "Iteration:  2  | bni =  [[0.00014787]]  | w =  50\n",
      "Iteration:  3  | bni =  [[0.00044715]]  | w =  100\n",
      "Iteration:  4  | bni =  [[0.37054897]]  | w =  200\n",
      "Iteration:  5  | bni =  [[0.8620317]]  | w =  400\n",
      "Iteration:  6  | bni =  [[0.7612329]]  | w =  300.0\n",
      "Iteration:  7  | bni =  [[0.65620509]]  | w =  250.0\n",
      "Iteration:  8  | bni =  [[0.56106903]]  | w =  225.0\n",
      "Iteration:  9  | bni =  [[0.4864869]]  | w =  212.5\n",
      "Iteration:  10  | bni =  [[0.53568955]]  | w =  218.75\n",
      "NSGA-II\n",
      "=======================================================\n",
      "n_gen |  n_eval |  n_nds  |     eps      |  indicator  \n",
      "=======================================================\n",
      "    1 |      10 |       5 |            - |            -\n",
      "    2 |      20 |       6 |  0.056198248 |            f\n",
      "    3 |      30 |       8 |  0.021760910 |            f\n",
      "    4 |      40 |       8 |  0.400000000 |        nadir\n",
      "    5 |      50 |       8 |  0.166666667 |        nadir\n",
      "    6 |      60 |       9 |  0.002926824 |        ideal\n",
      "    7 |      70 |       9 |  0.008549391 |            f\n",
      "    8 |      80 |       9 |  0.026711529 |            f\n",
      "    9 |      90 |      10 |  0.071428571 |        nadir\n",
      "   10 |     100 |      10 |  0.009780625 |            f\n",
      "   11 |     110 |      10 |  0.003992337 |        ideal\n",
      "   12 |     120 |      10 |  0.008274828 |            f\n",
      "   13 |     130 |      10 |  0.007694116 |            f\n",
      "   14 |     140 |      10 |  0.002774538 |            f\n",
      "   15 |     150 |      10 |  0.083333333 |        nadir\n",
      "   16 |     160 |       9 |  0.009706275 |            f\n",
      "   17 |     170 |      10 |  0.016771486 |            f\n",
      "   18 |     180 |       9 |  0.009455579 |            f\n",
      "   19 |     190 |      10 |  0.076923077 |        nadir\n",
      "   20 |     200 |      10 |  0.007692726 |            f\n",
      "   21 |     210 |      10 |  0.083333333 |        nadir\n",
      "   22 |     220 |      10 |  0.000105423 |            f\n",
      "   23 |     230 |      10 |  0.000442173 |            f\n",
      "   24 |     240 |      10 |  0.00000E+00 |            f\n",
      "   25 |     250 |      10 |  0.00000E+00 |            f\n",
      "   26 |     260 |      10 |  0.000054374 |            f\n",
      "   27 |     270 |       8 |  0.015772128 |            f\n",
      "   28 |     280 |      10 |  0.016669275 |            f\n",
      "   29 |     290 |      10 |  0.000713191 |            f\n",
      "   30 |     300 |      10 |  0.001592338 |            f\n",
      "Number of Nodes, (1-Delta BNI value)\n",
      "[[0.00000000e+00 1.01129032e+00]\n",
      " [1.20000000e+01 8.17531915e-04]\n",
      " [1.00000000e+00 7.88621086e-01]\n",
      " [1.00000000e+01 1.14593878e-03]\n",
      " [8.00000000e+00 1.46533333e-03]\n",
      " [6.00000000e+00 3.66292453e-03]\n",
      " [2.00000000e+00 2.63376842e-02]\n",
      " [7.00000000e+00 2.82942308e-03]\n",
      " [4.00000000e+00 4.49941818e-03]\n",
      " [3.00000000e+00 8.31267857e-03]]\n",
      "Current results:\n",
      "[array([[0.00000000e+00, 9.96978932e-01],\n",
      "       [5.00000000e+00, 3.57674074e-03],\n",
      "       [1.00000000e+00, 1.99088155e-01],\n",
      "       [3.00000000e+00, 1.00215893e-02],\n",
      "       [6.00000000e+00, 4.86698113e-04],\n",
      "       [2.00000000e+00, 2.56615439e-02]]), array([[0.00000000e+00, 1.01129032e+00],\n",
      "       [1.20000000e+01, 8.17531915e-04],\n",
      "       [1.00000000e+00, 7.88621086e-01],\n",
      "       [1.00000000e+01, 1.14593878e-03],\n",
      "       [8.00000000e+00, 1.46533333e-03],\n",
      "       [6.00000000e+00, 3.66292453e-03],\n",
      "       [2.00000000e+00, 2.63376842e-02],\n",
      "       [7.00000000e+00, 2.82942308e-03],\n",
      "       [4.00000000e+00, 4.49941818e-03],\n",
      "       [3.00000000e+00, 8.31267857e-03]])]\n",
      "Finding reference coupling:\n",
      "Iteration:  1  | bni =  [[0.0001643]]  | w =  25\n",
      "Iteration:  2  | bni =  [[0.00017218]]  | w =  50\n",
      "Iteration:  3  | bni =  [[0.00035948]]  | w =  100\n",
      "Iteration:  4  | bni =  [[0.35660049]]  | w =  200\n",
      "Iteration:  5  | bni =  [[0.85975836]]  | w =  400\n",
      "Iteration:  6  | bni =  [[0.76237382]]  | w =  300.0\n",
      "Iteration:  7  | bni =  [[0.65568015]]  | w =  250.0\n",
      "Iteration:  8  | bni =  [[0.56038896]]  | w =  225.0\n",
      "Iteration:  9  | bni =  [[0.49092892]]  | w =  212.5\n",
      "Iteration:  10  | bni =  [[0.53394542]]  | w =  218.75\n",
      "NSGA-II\n",
      "=======================================================\n",
      "n_gen |  n_eval |  n_nds  |     eps      |  indicator  \n",
      "=======================================================\n",
      "    1 |      10 |       5 |            - |            -\n",
      "    2 |      20 |       6 |  0.059579075 |            f\n",
      "    3 |      30 |       8 |  0.021981510 |            f\n",
      "    4 |      40 |       9 |  0.400000000 |        nadir\n",
      "    5 |      50 |       7 |  0.089971833 |            f\n",
      "    6 |      60 |       9 |  0.008204489 |        ideal\n",
      "    7 |      70 |       8 |  0.076923077 |        nadir\n",
      "    8 |      80 |       9 |  0.017253583 |            f\n",
      "    9 |      90 |       9 |  0.019612093 |            f\n",
      "   10 |     100 |      10 |  0.014401522 |            f\n",
      "   11 |     110 |       9 |  0.014502563 |            f\n",
      "   12 |     120 |      10 |  0.007708657 |            f\n",
      "   13 |     130 |      10 |  0.00000E+00 |            f\n",
      "   14 |     140 |      10 |  0.024163288 |            f\n",
      "   15 |     150 |      10 |  0.015386757 |            f\n",
      "   16 |     160 |      10 |  0.071428571 |        nadir\n",
      "   17 |     170 |      10 |  0.166666667 |        nadir\n",
      "   18 |     180 |       9 |  0.333333333 |        nadir\n",
      "   19 |     190 |       9 |  0.023348260 |            f\n",
      "   20 |     200 |       9 |  0.000498727 |            f\n"
     ]
    },
    {
     "name": "stdout",
     "output_type": "stream",
     "text": [
      "   21 |     210 |      10 |  0.181818182 |        nadir\n",
      "   22 |     220 |      10 |  0.153846154 |        nadir\n",
      "   23 |     230 |       9 |  0.000144017 |            f\n",
      "   24 |     240 |       9 |  0.000518013 |            f\n",
      "   25 |     250 |       8 |  0.444444444 |        nadir\n",
      "   26 |     260 |       9 |  0.250000000 |        nadir\n",
      "   27 |     270 |      10 |  0.076923077 |        nadir\n",
      "   28 |     280 |      10 |  0.008196157 |            f\n",
      "   29 |     290 |      10 |  0.000085613 |            f\n",
      "   30 |     300 |      10 |  0.00000E+00 |            f\n",
      "Number of Nodes, (1-Delta BNI value)\n",
      "[[0.00000000e+00 9.99985949e-01]\n",
      " [1.00000000e+00 1.87222586e-01]\n",
      " [3.00000000e+00 2.87059107e-02]\n",
      " [2.00000000e+00 9.08901053e-02]\n",
      " [9.00000000e+00 6.44160000e-04]\n",
      " [1.30000000e+01 5.13869565e-04]\n",
      " [1.10000000e+01 5.71541667e-04]\n",
      " [5.00000000e+00 1.15770000e-02]\n",
      " [7.00000000e+00 1.85075000e-03]\n",
      " [6.00000000e+00 3.29296226e-03]]\n",
      "Current results:\n",
      "[array([[0.00000000e+00, 9.96978932e-01],\n",
      "       [5.00000000e+00, 3.57674074e-03],\n",
      "       [1.00000000e+00, 1.99088155e-01],\n",
      "       [3.00000000e+00, 1.00215893e-02],\n",
      "       [6.00000000e+00, 4.86698113e-04],\n",
      "       [2.00000000e+00, 2.56615439e-02]]), array([[0.00000000e+00, 1.01129032e+00],\n",
      "       [1.20000000e+01, 8.17531915e-04],\n",
      "       [1.00000000e+00, 7.88621086e-01],\n",
      "       [1.00000000e+01, 1.14593878e-03],\n",
      "       [8.00000000e+00, 1.46533333e-03],\n",
      "       [6.00000000e+00, 3.66292453e-03],\n",
      "       [2.00000000e+00, 2.63376842e-02],\n",
      "       [7.00000000e+00, 2.82942308e-03],\n",
      "       [4.00000000e+00, 4.49941818e-03],\n",
      "       [3.00000000e+00, 8.31267857e-03]]), array([[0.00000000e+00, 9.99985949e-01],\n",
      "       [1.00000000e+00, 1.87222586e-01],\n",
      "       [3.00000000e+00, 2.87059107e-02],\n",
      "       [2.00000000e+00, 9.08901053e-02],\n",
      "       [9.00000000e+00, 6.44160000e-04],\n",
      "       [1.30000000e+01, 5.13869565e-04],\n",
      "       [1.10000000e+01, 5.71541667e-04],\n",
      "       [5.00000000e+00, 1.15770000e-02],\n",
      "       [7.00000000e+00, 1.85075000e-03],\n",
      "       [6.00000000e+00, 3.29296226e-03]])]\n"
     ]
    }
   ],
   "source": [
    "results = []\n",
    "for i in range(3):\n",
    "    val = sn.search(30, 15).F\n",
    "    results.append(val)\n",
    "    print(\"Current results:\")\n",
    "    print(results)\n"
   ]
  },
  {
   "cell_type": "code",
   "execution_count": 16,
   "metadata": {
    "pycharm": {
     "is_executing": true,
     "name": "#%%\n"
    }
   },
   "outputs": [
    {
     "name": "stdout",
     "output_type": "stream",
     "text": [
      "Finding reference coupling:\n",
      "Iteration:  1  | bni =  [[0.00013434]]  | w =  25\n",
      "Iteration:  2  | bni =  [[0.00015097]]  | w =  50\n",
      "Iteration:  3  | bni =  [[0.0004342]]  | w =  100\n",
      "Iteration:  4  | bni =  [[0.36631801]]  | w =  200\n",
      "Iteration:  5  | bni =  [[0.86135634]]  | w =  400\n",
      "Iteration:  6  | bni =  [[0.76287164]]  | w =  300.0\n",
      "Iteration:  7  | bni =  [[0.65501158]]  | w =  250.0\n",
      "Iteration:  8  | bni =  [[0.55977306]]  | w =  225.0\n",
      "Iteration:  9  | bni =  [[0.49305337]]  | w =  212.5\n",
      "Iteration:  10  | bni =  [[0.53299886]]  | w =  218.75\n",
      "NSGA-II\n",
      "=======================================================\n",
      "n_gen |  n_eval |  n_nds  |     eps      |  indicator  \n",
      "=======================================================\n",
      "    1 |      10 |       5 |            - |            -\n",
      "    2 |      20 |       6 |  0.056593929 |            f\n",
      "    3 |      30 |       8 |  0.021793697 |            f\n",
      "    4 |      40 |       8 |  0.400000000 |        nadir\n",
      "    5 |      50 |       7 |  0.055760837 |            f\n",
      "    6 |      60 |       8 |  0.012934364 |            f\n",
      "    7 |      70 |       9 |  0.285714286 |        nadir\n",
      "    8 |      80 |       9 |  0.004686500 |        ideal\n",
      "    9 |      90 |       9 |  0.00000E+00 |            f\n",
      "   10 |     100 |       9 |  0.009259906 |            f\n",
      "   11 |     110 |       8 |  0.016467543 |            f\n",
      "   12 |     120 |       9 |  0.046268497 |            f\n",
      "   13 |     130 |      10 |  0.017106506 |            f\n",
      "   14 |     140 |      10 |  0.000300133 |            f\n",
      "   15 |     150 |       9 |  0.009270019 |            f\n",
      "   16 |     160 |       7 |  1.000000000 |        nadir\n",
      "   17 |     170 |       7 |  0.005337640 |            f\n",
      "   18 |     180 |       8 |  0.142857143 |        nadir\n",
      "   19 |     190 |       8 |  0.021562074 |            f\n",
      "   20 |     200 |       9 |  0.125000000 |        nadir\n",
      "   21 |     210 |       9 |  0.00000E+00 |            f\n",
      "   22 |     220 |      10 |  0.111111111 |        nadir\n",
      "   23 |     230 |      10 |  0.250000000 |        nadir\n",
      "   24 |     240 |      10 |  0.001960289 |            f\n",
      "   25 |     250 |       9 |  0.006362530 |            f\n",
      "   26 |     260 |       9 |  0.000038767 |            f\n",
      "   27 |     270 |       9 |  0.000015656 |            f\n",
      "   28 |     280 |       9 |  0.200000000 |        nadir\n",
      "   29 |     290 |       9 |  0.011111125 |            f\n",
      "   30 |     300 |       9 |  0.00000E+00 |            f\n",
      "Number of Nodes, (1-Delta BNI value)\n",
      "[[0.00000000e+00 1.00465646e+00]\n",
      " [1.00000000e+00 2.01618483e-01]\n",
      " [2.00000000e+00 1.60414877e-01]\n",
      " [3.00000000e+00 5.88291071e-03]\n",
      " [7.00000000e+00 7.21423077e-04]\n",
      " [6.00000000e+00 1.22633962e-03]\n",
      " [9.00000000e+00 4.98540000e-04]\n",
      " [1.00000000e+01 4.06795918e-04]\n",
      " [4.00000000e+00 1.49683636e-03]]\n"
     ]
    }
   ],
   "source": [
    "val = sn.search(30, 15).F"
   ]
  },
  {
   "cell_type": "code",
   "execution_count": 19,
   "metadata": {},
   "outputs": [],
   "source": [
    "first_results = [[0.00000000e+00, 1.00662964e+00],\n",
    " [4.00000000e+00, 2.58161636e-02],\n",
    " [2.00000000e+00, 9.88133684e-02],\n",
    " [7.00000000e+00, 7.33288462e-04],\n",
    " [8.00000000e+00, 5.30039216e-04],\n",
    " [3.00000000e+00, 6.62136250e-02],\n",
    " [1.00000000e+00, 2.16037862e-01],\n",
    " [6.00000000e+00, 1.11283019e-03],\n",
    " [5.00000000e+00, 2.65725926e-03]]\n",
    "second = [[0.00000000e+00, 9.96978932e-01],\n",
    " [5.00000000e+00, 3.57674074e-03],\n",
    " [1.00000000e+00, 1.99088155e-01],\n",
    " [3.00000000e+00, 1.00215893e-02],\n",
    " [6.00000000e+00, 4.86698113e-04],\n",
    " [2.00000000e+00, 2.56615439e-02]]\n",
    "third = [[0.00000000e+00, 1.01129032e+00],\n",
    " [1.20000000e+01, 8.17531915e-04],\n",
    " [1.00000000e+00, 7.88621086e-01],\n",
    " [1.00000000e+01, 1.14593878e-03],\n",
    " [8.00000000e+00, 1.46533333e-03],\n",
    " [6.00000000e+00, 3.66292453e-03],\n",
    " [2.00000000e+00, 2.63376842e-02],\n",
    " [7.00000000e+00, 2.82942308e-03],\n",
    " [4.00000000e+00, 4.49941818e-03],\n",
    " [3.00000000e+00, 8.31267857e-03]]\n",
    "fourth =[[0.00000000e+00, 9.99985949e-01],\n",
    "[1.00000000e+00, 1.87222586e-01],\n",
    " [3.00000000e+00, 2.87059107e-02],\n",
    " [2.00000000e+00, 9.08901053e-02],\n",
    " [9.00000000e+00, 6.44160000e-04],\n",
    " [1.30000000e+01, 5.13869565e-04],\n",
    " [1.10000000e+01, 5.71541667e-04],\n",
    " [5.00000000e+00, 1.15770000e-02],\n",
    " [7.00000000e+00, 1.85075000e-03],\n",
    " [6.00000000e+00, 3.29296226e-03]]\n",
    "fifth = [[0.00000000e+00, 1.00465646e+00],\n",
    " [1.00000000e+00, 2.01618483e-01],\n",
    " [2.00000000e+00, 1.60414877e-01],\n",
    " [3.00000000e+00, 5.88291071e-03],\n",
    " [7.00000000e+00, 7.21423077e-04],\n",
    " [6.00000000e+00, 1.22633962e-03],\n",
    " [9.00000000e+00, 4.98540000e-04],\n",
    " [1.00000000e+01, 4.06795918e-04],\n",
    " [4.00000000e+00, 1.49683636e-03]]\n",
    "nnums = [0., 4., 2., 7., 8., 3., 1., 6., 5.]\n",
    "bvals = [1.00662964e+00, 2.58161636e-02, 9.88133684e-02, 7.33288462e-04,\n",
    " 5.30039216e-04, 6.62136250e-02, 2.16037862e-01, 1.11283019e-03,\n",
    " 2.65725926e-03]"
   ]
  },
  {
   "cell_type": "code",
   "execution_count": 53,
   "metadata": {},
   "outputs": [
    {
     "name": "stdout",
     "output_type": "stream",
     "text": [
      "[0.0, 4.0, 2.0, 7.0, 8.0, 3.0, 1.0, 6.0, 5.0, 0.0, 5.0, 1.0, 3.0, 6.0, 2.0, 0.0, 12.0, 1.0, 10.0, 8.0, 6.0, 2.0, 7.0, 4.0, 3.0, 0.0, 1.0, 3.0, 2.0, 9.0, 13.0, 11.0, 5.0, 7.0, 6.0, 0.0, 1.0, 2.0, 3.0, 7.0, 6.0, 9.0, 10.0, 4.0]\n",
      "\n",
      "[1.00662964, 0.0258161636, 0.0988133684, 0.000733288462, 0.000530039216, 0.066213625, 0.216037862, 0.00111283019, 0.00265725926, 0.996978932, 0.00357674074, 0.199088155, 0.0100215893, 0.000486698113, 0.0256615439, 1.01129032, 0.000817531915, 0.788621086, 0.00114593878, 0.00146533333, 0.00366292453, 0.0263376842, 0.00282942308, 0.00449941818, 0.00831267857, 0.999985949, 0.187222586, 0.0287059107, 0.0908901053, 0.00064416, 0.000513869565, 0.000571541667, 0.011577, 0.00185075, 0.00329296226, 1.00465646, 0.201618483, 0.160414877, 0.00588291071, 0.000721423077, 0.00122633962, 0.00049854, 0.000406795918, 0.00149683636]\n"
     ]
    }
   ],
   "source": [
    "import numpy as np\n",
    "nnums =[]\n",
    "bvals =[]\n",
    "first = np.array(first_results)\n",
    "# print(first[:,0].tolist())\n",
    "nnums = nnums + first[:,0].tolist()\n",
    "bvals = bvals + first[:,1].tolist()\n",
    "# bvals.append(list(first[:,1]))\n",
    "\n",
    "first = np.array(second)\n",
    "nnums = nnums + first[:,0].tolist()\n",
    "bvals = bvals + first[:,1].tolist()\n",
    "# bvals.append(list(first[:,1]))\n",
    "\n",
    "first = np.array(third)\n",
    "nnums = nnums + first[:,0].tolist()\n",
    "bvals = bvals + first[:,1].tolist()\n",
    "# nnums.append(np.ravel(first[:,0]))\n",
    "# bvals.append(list(first[:,1]))\n",
    "\n",
    "first = np.array(fourth)\n",
    "nnums = nnums + first[:,0].tolist()\n",
    "bvals = bvals + first[:,1].tolist()\n",
    "# nnums.append(list(first[:,0]))\n",
    "# bvals.append(list(first[:,1]))\n",
    "\n",
    "first = np.array(fifth)\n",
    "nnums = nnums + first[:,0].tolist()\n",
    "bvals = bvals + first[:,1].tolist()\n",
    "# nnums.append(list(first[:,0]))\n",
    "# bvals.append(list(first[:,1]))\n",
    "# print(np.ravel(nnums))\n",
    "\n",
    "print(nnums)\n",
    "print()\n",
    "print(bvals)\n",
    "# print(list(np.ravel(bvals)))\n",
    "      "
   ]
  },
  {
   "cell_type": "code",
   "execution_count": null,
   "outputs": [],
   "source": [
    "show_Pareto_front(nnums, bvals)"
   ],
   "metadata": {
    "collapsed": false,
    "pycharm": {
     "name": "#%%\n"
    }
   }
  },
  {
   "cell_type": "code",
   "execution_count": null,
   "outputs": [],
   "source": [
    "plt.title(\"BNI vs Number of nodes Pareto front\")\n",
    "plt.xlabel(\"Number of nodes resected\")\n",
    "plt.ylabel(\"The BNI value after resection\")\n",
    "plt.scatter(nnums, bvals)\n",
    "plt.savefig(\"Front5runs\", dpi=300)"
   ],
   "metadata": {
    "collapsed": false,
    "pycharm": {
     "name": "#%%\n"
    }
   }
  },
  {
   "cell_type": "code",
   "execution_count": 54,
   "metadata": {},
   "outputs": [
    {
     "data": {
      "image/png": "[encoded data removed]",
      "text/plain": [
       "<Figure size 432x288 with 1 Axes>"
      ]
     },
     "metadata": {
      "needs_background": "light"
     },
     "output_type": "display_data"
    }
   ],
   "source": [
    "plt.title(\"BNI vs Number of nodes Pareto front\")\n",
    "plt.xlabel(\"Number of nodes resected\")\n",
    "plt.ylabel(\"The BNI value after resection\")\n",
    "plt.scatter(nnums, bvals)\n",
    "plt.savefig(\"Front5runs\", dpi=300)"
   ]
  },
  {
   "cell_type": "code",
   "execution_count": 56,
   "metadata": {},
   "outputs": [
    {
     "data": {
      "image/png": "[encoded data removed]",
      "text/plain": [
       "<Figure size 432x288 with 1 Axes>"
      ]
     },
     "metadata": {
      "needs_background": "light"
     },
     "output_type": "display_data"
    }
   ],
   "source": [
    "plt.title(\"BNI vs Number of nodes Pareto front\")\n",
    "plt.xlabel(\"Number of nodes resected\")\n",
    "plt.ylabel(\"The BNI value after resection\")\n",
    "plt.scatter(nnums, bvals)\n",
    "plt.savefig(\"Front5runs\", dpi=300)"
   ]
  }
 ],
 "metadata": {
  "kernelspec": {
   "display_name": "Python 3",
   "language": "python",
   "name": "python3"
  },
  "language_info": {
   "codemirror_mode": {
    "name": "ipython",
    "version": 3
   },
   "file_extension": ".py",
   "mimetype": "text/x-python",
   "name": "python",
   "nbconvert_exporter": "python",
   "pygments_lexer": "ipython3",
   "version": "3.8.5"
  }
 },
 "nbformat": 4,
 "nbformat_minor": 1
}